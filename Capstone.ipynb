{
 "cells": [
  {
   "cell_type": "markdown",
   "metadata": {},
   "source": [
    "# **Capstone Project - Car accident severity**"
   ]
  },
  {
   "cell_type": "markdown",
   "metadata": {},
   "source": [
    "## 1) Introduction/Business Problem"
   ]
  },
  {
   "cell_type": "markdown",
   "metadata": {},
   "source": [
    "#####  Task: Clearly define a problem or an idea of your choice. Remember that data science problems always target an audience and are meant to help a group of stakeholders solve a problem, so make sure that you explicitly describe your audience and why they would care about your problem."
   ]
  },
  {
   "cell_type": "markdown",
   "metadata": {},
   "source": [
    "The aim of this study is to predict the severity of a car accident. This would be a tool that, given the weather, the road conditions and other variables, could warn surrounding hospitals about the possibility of getting a severe and be prepared for it. It would also warn people to drive more carefully or even change their travel if they are able to.\n",
    "\n",
    "\n",
    "In order to study this problem, I used the dataset given in the Coursera Capstone project: Data-Collisions.csv that contains Data of collisions in Seattle."
   ]
  },
  {
   "cell_type": "markdown",
   "metadata": {},
   "source": [
    "## 2) Data"
   ]
  },
  {
   "cell_type": "markdown",
   "metadata": {},
   "source": [
    "##### Task: Describe the data that you will be using to solve the problem or execute your idea. So make sure that you provide adequate explanation and discussion, with examples, of the data that you will be using."
   ]
  },
  {
   "cell_type": "code",
   "execution_count": 76,
   "metadata": {},
   "outputs": [],
   "source": [
    "# importing the modules I will need\n",
    "import pandas as pd\n",
    "import numpy as np\n",
    "import seaborn as sns\n",
    "import matplotlib.pyplot as plt\n",
    "from sklearn import preprocessing,metrics\n",
    "from sklearn.linear_model import LogisticRegression\n",
    "from sklearn.model_selection import train_test_split\n",
    "from sklearn.metrics import classification_report, confusion_matrix, f1_score,jaccard_similarity_score,log_loss\n",
    "from sklearn.neighbors import KNeighborsClassifier\n",
    "%matplotlib inline"
   ]
  },
  {
   "cell_type": "code",
   "execution_count": 77,
   "metadata": {},
   "outputs": [
    {
     "name": "stderr",
     "output_type": "stream",
     "text": [
      "/opt/anaconda3/lib/python3.7/site-packages/IPython/core/interactiveshell.py:3058: DtypeWarning: Columns (33) have mixed types. Specify dtype option on import or set low_memory=False.\n",
      "  interactivity=interactivity, compiler=compiler, result=result)\n"
     ]
    }
   ],
   "source": [
    "# uploding the dataset\n",
    "df=pd.read_csv('Data-Collisions.csv')"
   ]
  },
  {
   "cell_type": "markdown",
   "metadata": {},
   "source": [
    "Let's take a look at the database. "
   ]
  },
  {
   "cell_type": "code",
   "execution_count": 78,
   "metadata": {},
   "outputs": [
    {
     "name": "stdout",
     "output_type": "stream",
     "text": [
      "<class 'pandas.core.frame.DataFrame'>\n",
      "RangeIndex: 194673 entries, 0 to 194672\n",
      "Data columns (total 38 columns):\n",
      "SEVERITYCODE      194673 non-null int64\n",
      "X                 189339 non-null float64\n",
      "Y                 189339 non-null float64\n",
      "OBJECTID          194673 non-null int64\n",
      "INCKEY            194673 non-null int64\n",
      "COLDETKEY         194673 non-null int64\n",
      "REPORTNO          194673 non-null object\n",
      "STATUS            194673 non-null object\n",
      "ADDRTYPE          192747 non-null object\n",
      "INTKEY            65070 non-null float64\n",
      "LOCATION          191996 non-null object\n",
      "EXCEPTRSNCODE     84811 non-null object\n",
      "EXCEPTRSNDESC     5638 non-null object\n",
      "SEVERITYCODE.1    194673 non-null int64\n",
      "SEVERITYDESC      194673 non-null object\n",
      "COLLISIONTYPE     189769 non-null object\n",
      "PERSONCOUNT       194673 non-null int64\n",
      "PEDCOUNT          194673 non-null int64\n",
      "PEDCYLCOUNT       194673 non-null int64\n",
      "VEHCOUNT          194673 non-null int64\n",
      "INCDATE           194673 non-null object\n",
      "INCDTTM           194673 non-null object\n",
      "JUNCTIONTYPE      188344 non-null object\n",
      "SDOT_COLCODE      194673 non-null int64\n",
      "SDOT_COLDESC      194673 non-null object\n",
      "INATTENTIONIND    29805 non-null object\n",
      "UNDERINFL         189789 non-null object\n",
      "WEATHER           189592 non-null object\n",
      "ROADCOND          189661 non-null object\n",
      "LIGHTCOND         189503 non-null object\n",
      "PEDROWNOTGRNT     4667 non-null object\n",
      "SDOTCOLNUM        114936 non-null float64\n",
      "SPEEDING          9333 non-null object\n",
      "ST_COLCODE        194655 non-null object\n",
      "ST_COLDESC        189769 non-null object\n",
      "SEGLANEKEY        194673 non-null int64\n",
      "CROSSWALKKEY      194673 non-null int64\n",
      "HITPARKEDCAR      194673 non-null object\n",
      "dtypes: float64(4), int64(12), object(22)\n",
      "memory usage: 56.4+ MB\n"
     ]
    }
   ],
   "source": [
    "df.info()"
   ]
  },
  {
   "cell_type": "markdown",
   "metadata": {},
   "source": [
    "'SEVERITYCODE' is our target label. Let's analyse it."
   ]
  },
  {
   "cell_type": "code",
   "execution_count": 79,
   "metadata": {},
   "outputs": [
    {
     "data": {
      "text/plain": [
       "0    2\n",
       "1    1\n",
       "2    1\n",
       "3    1\n",
       "4    2\n",
       "Name: SEVERITYCODE, dtype: int64"
      ]
     },
     "execution_count": 79,
     "metadata": {},
     "output_type": "execute_result"
    }
   ],
   "source": [
    "df['SEVERITYCODE'].head()"
   ]
  },
  {
   "cell_type": "code",
   "execution_count": 80,
   "metadata": {},
   "outputs": [
    {
     "data": {
      "text/plain": [
       "1    136485\n",
       "2     58188\n",
       "Name: SEVERITYCODE, dtype: int64"
      ]
     },
     "execution_count": 80,
     "metadata": {},
     "output_type": "execute_result"
    }
   ],
   "source": [
    "df['SEVERITYCODE'].value_counts()"
   ]
  },
  {
   "cell_type": "markdown",
   "metadata": {},
   "source": [
    "We have just two classes. This will simplify our job with the classifier later. However, in the meta data there is an explanation for the severity code:\n",
    "\n",
    "1) property damage\n",
    "\n",
    "2) injury\n",
    "\n",
    "\n",
    "Now let's analyse the features and select the ones that are appropriate for the problem. In order to be suitable for classification problems, features should be categorical variables. In case we have some useful feature that is not categorical, we could still get dunny variables from them, so we do not exclude non-categorical variables a priori.\n",
    "\n",
    "Let's start with variables that refers to the location of the accident."
   ]
  },
  {
   "cell_type": "code",
   "execution_count": 81,
   "metadata": {},
   "outputs": [
    {
     "data": {
      "text/html": [
       "<div>\n",
       "<style scoped>\n",
       "    .dataframe tbody tr th:only-of-type {\n",
       "        vertical-align: middle;\n",
       "    }\n",
       "\n",
       "    .dataframe tbody tr th {\n",
       "        vertical-align: top;\n",
       "    }\n",
       "\n",
       "    .dataframe thead th {\n",
       "        text-align: right;\n",
       "    }\n",
       "</style>\n",
       "<table border=\"1\" class=\"dataframe\">\n",
       "  <thead>\n",
       "    <tr style=\"text-align: right;\">\n",
       "      <th></th>\n",
       "      <th>X</th>\n",
       "      <th>Y</th>\n",
       "      <th>LOCATION</th>\n",
       "    </tr>\n",
       "  </thead>\n",
       "  <tbody>\n",
       "    <tr>\n",
       "      <td>0</td>\n",
       "      <td>-122.323148</td>\n",
       "      <td>47.703140</td>\n",
       "      <td>5TH AVE NE AND NE 103RD ST</td>\n",
       "    </tr>\n",
       "    <tr>\n",
       "      <td>1</td>\n",
       "      <td>-122.347294</td>\n",
       "      <td>47.647172</td>\n",
       "      <td>AURORA BR BETWEEN RAYE ST AND BRIDGE WAY N</td>\n",
       "    </tr>\n",
       "    <tr>\n",
       "      <td>2</td>\n",
       "      <td>-122.334540</td>\n",
       "      <td>47.607871</td>\n",
       "      <td>4TH AVE BETWEEN SENECA ST AND UNIVERSITY ST</td>\n",
       "    </tr>\n",
       "    <tr>\n",
       "      <td>3</td>\n",
       "      <td>-122.334803</td>\n",
       "      <td>47.604803</td>\n",
       "      <td>2ND AVE BETWEEN MARION ST AND MADISON ST</td>\n",
       "    </tr>\n",
       "    <tr>\n",
       "      <td>4</td>\n",
       "      <td>-122.306426</td>\n",
       "      <td>47.545739</td>\n",
       "      <td>SWIFT AVE S AND SWIFT AV OFF RP</td>\n",
       "    </tr>\n",
       "    <tr>\n",
       "      <td>...</td>\n",
       "      <td>...</td>\n",
       "      <td>...</td>\n",
       "      <td>...</td>\n",
       "    </tr>\n",
       "    <tr>\n",
       "      <td>194668</td>\n",
       "      <td>-122.290826</td>\n",
       "      <td>47.565408</td>\n",
       "      <td>34TH AVE S BETWEEN S DAKOTA ST AND S GENESEE ST</td>\n",
       "    </tr>\n",
       "    <tr>\n",
       "      <td>194669</td>\n",
       "      <td>-122.344526</td>\n",
       "      <td>47.690924</td>\n",
       "      <td>AURORA AVE N BETWEEN N 85TH ST AND N 86TH ST</td>\n",
       "    </tr>\n",
       "    <tr>\n",
       "      <td>194670</td>\n",
       "      <td>-122.306689</td>\n",
       "      <td>47.683047</td>\n",
       "      <td>20TH AVE NE AND NE 75TH ST</td>\n",
       "    </tr>\n",
       "    <tr>\n",
       "      <td>194671</td>\n",
       "      <td>-122.355317</td>\n",
       "      <td>47.678734</td>\n",
       "      <td>GREENWOOD AVE N AND N 68TH ST</td>\n",
       "    </tr>\n",
       "    <tr>\n",
       "      <td>194672</td>\n",
       "      <td>-122.289360</td>\n",
       "      <td>47.611017</td>\n",
       "      <td>34TH AVE BETWEEN E MARION ST AND E SPRING ST</td>\n",
       "    </tr>\n",
       "  </tbody>\n",
       "</table>\n",
       "<p>194673 rows × 3 columns</p>\n",
       "</div>"
      ],
      "text/plain": [
       "                 X          Y                                         LOCATION\n",
       "0      -122.323148  47.703140                       5TH AVE NE AND NE 103RD ST\n",
       "1      -122.347294  47.647172       AURORA BR BETWEEN RAYE ST AND BRIDGE WAY N\n",
       "2      -122.334540  47.607871      4TH AVE BETWEEN SENECA ST AND UNIVERSITY ST\n",
       "3      -122.334803  47.604803         2ND AVE BETWEEN MARION ST AND MADISON ST\n",
       "4      -122.306426  47.545739                  SWIFT AVE S AND SWIFT AV OFF RP\n",
       "...            ...        ...                                              ...\n",
       "194668 -122.290826  47.565408  34TH AVE S BETWEEN S DAKOTA ST AND S GENESEE ST\n",
       "194669 -122.344526  47.690924     AURORA AVE N BETWEEN N 85TH ST AND N 86TH ST\n",
       "194670 -122.306689  47.683047                       20TH AVE NE AND NE 75TH ST\n",
       "194671 -122.355317  47.678734                    GREENWOOD AVE N AND N 68TH ST\n",
       "194672 -122.289360  47.611017     34TH AVE BETWEEN E MARION ST AND E SPRING ST\n",
       "\n",
       "[194673 rows x 3 columns]"
      ]
     },
     "execution_count": 81,
     "metadata": {},
     "output_type": "execute_result"
    }
   ],
   "source": [
    "df[['X','Y','LOCATION']]"
   ]
  },
  {
   "cell_type": "markdown",
   "metadata": {},
   "source": [
    "'LOCATION' is text about where the car accident happened not good as categorical variable and since it is a description of two streets, not good to be transformed as dummy variable. 'X','Y' are coordinates. We could retrieve the district of the city with geopy and give a dummy variable to each district. Let's try:"
   ]
  },
  {
   "cell_type": "code",
   "execution_count": 82,
   "metadata": {},
   "outputs": [
    {
     "name": "stdout",
     "output_type": "stream",
     "text": [
      "Requirement already satisfied: geopy in /opt/anaconda3/lib/python3.7/site-packages (2.0.0)\r\n",
      "Requirement already satisfied: geographiclib<2,>=1.49 in /opt/anaconda3/lib/python3.7/site-packages (from geopy) (1.50)\r\n"
     ]
    }
   ],
   "source": [
    "!pip install geopy"
   ]
  },
  {
   "cell_type": "code",
   "execution_count": 83,
   "metadata": {},
   "outputs": [
    {
     "data": {
      "text/plain": [
       "Location(Thornton Creek Apartments, 514, Northeast 103rd Street, Licton Springs, Maple Leaf, Seattle, King County, Washington, 98125, United States of America, (47.7033299, -122.3220510871665, 0.0))"
      ]
     },
     "execution_count": 83,
     "metadata": {},
     "output_type": "execute_result"
    }
   ],
   "source": [
    "from geopy.geocoders import Nominatim\n",
    "locator = Nominatim(user_agent='myGeocoder')\n",
    "a = locator.reverse('47.703140,-122.323148')\n",
    "a"
   ]
  },
  {
   "cell_type": "markdown",
   "metadata": {},
   "source": [
    "The problem is again that accident can happen in between two disctrits as in the example: Licton Springs and Maple Leaf. This is not a good variable to be transformed into a dummy one, since it would be a combination of 2 or more variables (i.e. the districts). We could still separate the city in north and south (or East and West) with the coordinates. In case I would have some time left I will try it. For now, we drop 'X', 'Y' and 'LOCATION'."
   ]
  },
  {
   "cell_type": "code",
   "execution_count": 84,
   "metadata": {},
   "outputs": [],
   "source": [
    "df.drop(['X', 'Y', 'LOCATION'], axis=1, inplace=True)"
   ]
  },
  {
   "cell_type": "code",
   "execution_count": 85,
   "metadata": {},
   "outputs": [
    {
     "name": "stdout",
     "output_type": "stream",
     "text": [
      "<class 'pandas.core.frame.DataFrame'>\n",
      "RangeIndex: 194673 entries, 0 to 194672\n",
      "Data columns (total 35 columns):\n",
      "SEVERITYCODE      194673 non-null int64\n",
      "OBJECTID          194673 non-null int64\n",
      "INCKEY            194673 non-null int64\n",
      "COLDETKEY         194673 non-null int64\n",
      "REPORTNO          194673 non-null object\n",
      "STATUS            194673 non-null object\n",
      "ADDRTYPE          192747 non-null object\n",
      "INTKEY            65070 non-null float64\n",
      "EXCEPTRSNCODE     84811 non-null object\n",
      "EXCEPTRSNDESC     5638 non-null object\n",
      "SEVERITYCODE.1    194673 non-null int64\n",
      "SEVERITYDESC      194673 non-null object\n",
      "COLLISIONTYPE     189769 non-null object\n",
      "PERSONCOUNT       194673 non-null int64\n",
      "PEDCOUNT          194673 non-null int64\n",
      "PEDCYLCOUNT       194673 non-null int64\n",
      "VEHCOUNT          194673 non-null int64\n",
      "INCDATE           194673 non-null object\n",
      "INCDTTM           194673 non-null object\n",
      "JUNCTIONTYPE      188344 non-null object\n",
      "SDOT_COLCODE      194673 non-null int64\n",
      "SDOT_COLDESC      194673 non-null object\n",
      "INATTENTIONIND    29805 non-null object\n",
      "UNDERINFL         189789 non-null object\n",
      "WEATHER           189592 non-null object\n",
      "ROADCOND          189661 non-null object\n",
      "LIGHTCOND         189503 non-null object\n",
      "PEDROWNOTGRNT     4667 non-null object\n",
      "SDOTCOLNUM        114936 non-null float64\n",
      "SPEEDING          9333 non-null object\n",
      "ST_COLCODE        194655 non-null object\n",
      "ST_COLDESC        189769 non-null object\n",
      "SEGLANEKEY        194673 non-null int64\n",
      "CROSSWALKKEY      194673 non-null int64\n",
      "HITPARKEDCAR      194673 non-null object\n",
      "dtypes: float64(2), int64(12), object(21)\n",
      "memory usage: 52.0+ MB\n"
     ]
    }
   ],
   "source": [
    "df.info()"
   ]
  },
  {
   "cell_type": "markdown",
   "metadata": {},
   "source": [
    "Next variables 'OBJECTID', 'INCKEY', 'COLDETKEY', 'REPORTNO' are just codes and we discard them."
   ]
  },
  {
   "cell_type": "code",
   "execution_count": 86,
   "metadata": {},
   "outputs": [],
   "source": [
    "df.drop(['OBJECTID', 'INCKEY', 'COLDETKEY','REPORTNO'], axis=1, inplace=True)"
   ]
  },
  {
   "cell_type": "code",
   "execution_count": 87,
   "metadata": {},
   "outputs": [
    {
     "data": {
      "text/plain": [
       "Matched      189786\n",
       "Unmatched      4887\n",
       "Name: STATUS, dtype: int64"
      ]
     },
     "execution_count": 87,
     "metadata": {},
     "output_type": "execute_result"
    }
   ],
   "source": [
    "df['STATUS'].value_counts()"
   ]
  },
  {
   "cell_type": "markdown",
   "metadata": {},
   "source": [
    "'STATUS' is not described into the meta data and I frankly do not have any idea what it refers to, so I discard this too."
   ]
  },
  {
   "cell_type": "code",
   "execution_count": 88,
   "metadata": {},
   "outputs": [],
   "source": [
    "df.drop(['STATUS'], axis=1, inplace=True)"
   ]
  },
  {
   "cell_type": "code",
   "execution_count": 89,
   "metadata": {},
   "outputs": [
    {
     "name": "stdout",
     "output_type": "stream",
     "text": [
      "<class 'pandas.core.frame.DataFrame'>\n",
      "RangeIndex: 194673 entries, 0 to 194672\n",
      "Data columns (total 30 columns):\n",
      "SEVERITYCODE      194673 non-null int64\n",
      "ADDRTYPE          192747 non-null object\n",
      "INTKEY            65070 non-null float64\n",
      "EXCEPTRSNCODE     84811 non-null object\n",
      "EXCEPTRSNDESC     5638 non-null object\n",
      "SEVERITYCODE.1    194673 non-null int64\n",
      "SEVERITYDESC      194673 non-null object\n",
      "COLLISIONTYPE     189769 non-null object\n",
      "PERSONCOUNT       194673 non-null int64\n",
      "PEDCOUNT          194673 non-null int64\n",
      "PEDCYLCOUNT       194673 non-null int64\n",
      "VEHCOUNT          194673 non-null int64\n",
      "INCDATE           194673 non-null object\n",
      "INCDTTM           194673 non-null object\n",
      "JUNCTIONTYPE      188344 non-null object\n",
      "SDOT_COLCODE      194673 non-null int64\n",
      "SDOT_COLDESC      194673 non-null object\n",
      "INATTENTIONIND    29805 non-null object\n",
      "UNDERINFL         189789 non-null object\n",
      "WEATHER           189592 non-null object\n",
      "ROADCOND          189661 non-null object\n",
      "LIGHTCOND         189503 non-null object\n",
      "PEDROWNOTGRNT     4667 non-null object\n",
      "SDOTCOLNUM        114936 non-null float64\n",
      "SPEEDING          9333 non-null object\n",
      "ST_COLCODE        194655 non-null object\n",
      "ST_COLDESC        189769 non-null object\n",
      "SEGLANEKEY        194673 non-null int64\n",
      "CROSSWALKKEY      194673 non-null int64\n",
      "HITPARKEDCAR      194673 non-null object\n",
      "dtypes: float64(2), int64(9), object(19)\n",
      "memory usage: 44.6+ MB\n"
     ]
    }
   ],
   "source": [
    "df.info()"
   ]
  },
  {
   "cell_type": "code",
   "execution_count": 90,
   "metadata": {},
   "outputs": [
    {
     "data": {
      "text/plain": [
       "Block           126926\n",
       "Intersection     65070\n",
       "Alley              751\n",
       "Name: ADDRTYPE, dtype: int64"
      ]
     },
     "execution_count": 90,
     "metadata": {},
     "output_type": "execute_result"
    }
   ],
   "source": [
    "df['ADDRTYPE'].value_counts()"
   ]
  },
  {
   "cell_type": "markdown",
   "metadata": {},
   "source": [
    "'ADDRTYPE' looks like a good variable, but contains redoundand information that are already reported in 'SDOT_COLCODE'. The next 'INTKEY','EXCEPTRSNCODE','EXCEPTRSNDESC' are codes or not valuable info. 'SEVERITYCODE.1' looks like a copy of 'SEVERITYCODE' and 'SEVERITYDESC' contains the same info, but in a text format. We discard all this columns."
   ]
  },
  {
   "cell_type": "code",
   "execution_count": 91,
   "metadata": {},
   "outputs": [],
   "source": [
    "df.drop(['ADDRTYPE','INTKEY','EXCEPTRSNCODE','EXCEPTRSNDESC','SEVERITYCODE.1','SEVERITYDESC'], axis=1, inplace=True)"
   ]
  },
  {
   "cell_type": "code",
   "execution_count": 92,
   "metadata": {},
   "outputs": [
    {
     "name": "stdout",
     "output_type": "stream",
     "text": [
      "<class 'pandas.core.frame.DataFrame'>\n",
      "RangeIndex: 194673 entries, 0 to 194672\n",
      "Data columns (total 24 columns):\n",
      "SEVERITYCODE      194673 non-null int64\n",
      "COLLISIONTYPE     189769 non-null object\n",
      "PERSONCOUNT       194673 non-null int64\n",
      "PEDCOUNT          194673 non-null int64\n",
      "PEDCYLCOUNT       194673 non-null int64\n",
      "VEHCOUNT          194673 non-null int64\n",
      "INCDATE           194673 non-null object\n",
      "INCDTTM           194673 non-null object\n",
      "JUNCTIONTYPE      188344 non-null object\n",
      "SDOT_COLCODE      194673 non-null int64\n",
      "SDOT_COLDESC      194673 non-null object\n",
      "INATTENTIONIND    29805 non-null object\n",
      "UNDERINFL         189789 non-null object\n",
      "WEATHER           189592 non-null object\n",
      "ROADCOND          189661 non-null object\n",
      "LIGHTCOND         189503 non-null object\n",
      "PEDROWNOTGRNT     4667 non-null object\n",
      "SDOTCOLNUM        114936 non-null float64\n",
      "SPEEDING          9333 non-null object\n",
      "ST_COLCODE        194655 non-null object\n",
      "ST_COLDESC        189769 non-null object\n",
      "SEGLANEKEY        194673 non-null int64\n",
      "CROSSWALKKEY      194673 non-null int64\n",
      "HITPARKEDCAR      194673 non-null object\n",
      "dtypes: float64(1), int64(8), object(15)\n",
      "memory usage: 35.6+ MB\n"
     ]
    }
   ],
   "source": [
    "df.info()"
   ]
  },
  {
   "cell_type": "code",
   "execution_count": 93,
   "metadata": {
    "scrolled": true
   },
   "outputs": [
    {
     "data": {
      "text/plain": [
       "Parked Car    47987\n",
       "Angles        34674\n",
       "Rear Ended    34090\n",
       "Other         23703\n",
       "Sideswipe     18609\n",
       "Left Turn     13703\n",
       "Pedestrian     6608\n",
       "Cycles         5415\n",
       "Right Turn     2956\n",
       "Head On        2024\n",
       "Name: COLLISIONTYPE, dtype: int64"
      ]
     },
     "execution_count": 93,
     "metadata": {},
     "output_type": "execute_result"
    }
   ],
   "source": [
    "df['COLLISIONTYPE'].value_counts()"
   ]
  },
  {
   "cell_type": "markdown",
   "metadata": {},
   "source": [
    "The info in 'COLLISIONTYPE' are also contained in 'SDOT_COLCODE', so I am gonna discard it. We keep 'PERSONCOUNT','PEDCOUNT','PEDCYLCOUNT','VEHCOUNT' that are good categorical variables."
   ]
  },
  {
   "cell_type": "code",
   "execution_count": 94,
   "metadata": {},
   "outputs": [],
   "source": [
    "df.drop(['COLLISIONTYPE'], axis=1, inplace=True)"
   ]
  },
  {
   "cell_type": "code",
   "execution_count": 95,
   "metadata": {},
   "outputs": [
    {
     "data": {
      "text/html": [
       "<div>\n",
       "<style scoped>\n",
       "    .dataframe tbody tr th:only-of-type {\n",
       "        vertical-align: middle;\n",
       "    }\n",
       "\n",
       "    .dataframe tbody tr th {\n",
       "        vertical-align: top;\n",
       "    }\n",
       "\n",
       "    .dataframe thead th {\n",
       "        text-align: right;\n",
       "    }\n",
       "</style>\n",
       "<table border=\"1\" class=\"dataframe\">\n",
       "  <thead>\n",
       "    <tr style=\"text-align: right;\">\n",
       "      <th></th>\n",
       "      <th>INCDATE</th>\n",
       "      <th>INCDTTM</th>\n",
       "    </tr>\n",
       "  </thead>\n",
       "  <tbody>\n",
       "    <tr>\n",
       "      <td>0</td>\n",
       "      <td>2013/03/27 00:00:00+00</td>\n",
       "      <td>3/27/2013 2:54:00 PM</td>\n",
       "    </tr>\n",
       "    <tr>\n",
       "      <td>1</td>\n",
       "      <td>2006/12/20 00:00:00+00</td>\n",
       "      <td>12/20/2006 6:55:00 PM</td>\n",
       "    </tr>\n",
       "    <tr>\n",
       "      <td>2</td>\n",
       "      <td>2004/11/18 00:00:00+00</td>\n",
       "      <td>11/18/2004 10:20:00 AM</td>\n",
       "    </tr>\n",
       "    <tr>\n",
       "      <td>3</td>\n",
       "      <td>2013/03/29 00:00:00+00</td>\n",
       "      <td>3/29/2013 9:26:00 AM</td>\n",
       "    </tr>\n",
       "    <tr>\n",
       "      <td>4</td>\n",
       "      <td>2004/01/28 00:00:00+00</td>\n",
       "      <td>1/28/2004 8:04:00 AM</td>\n",
       "    </tr>\n",
       "    <tr>\n",
       "      <td>...</td>\n",
       "      <td>...</td>\n",
       "      <td>...</td>\n",
       "    </tr>\n",
       "    <tr>\n",
       "      <td>194668</td>\n",
       "      <td>2018/11/12 00:00:00+00</td>\n",
       "      <td>11/12/2018 8:12:00 AM</td>\n",
       "    </tr>\n",
       "    <tr>\n",
       "      <td>194669</td>\n",
       "      <td>2018/12/18 00:00:00+00</td>\n",
       "      <td>12/18/2018 9:14:00 AM</td>\n",
       "    </tr>\n",
       "    <tr>\n",
       "      <td>194670</td>\n",
       "      <td>2019/01/19 00:00:00+00</td>\n",
       "      <td>1/19/2019 9:25:00 AM</td>\n",
       "    </tr>\n",
       "    <tr>\n",
       "      <td>194671</td>\n",
       "      <td>2019/01/15 00:00:00+00</td>\n",
       "      <td>1/15/2019 4:48:00 PM</td>\n",
       "    </tr>\n",
       "    <tr>\n",
       "      <td>194672</td>\n",
       "      <td>2018/11/30 00:00:00+00</td>\n",
       "      <td>11/30/2018 3:45:00 PM</td>\n",
       "    </tr>\n",
       "  </tbody>\n",
       "</table>\n",
       "<p>194673 rows × 2 columns</p>\n",
       "</div>"
      ],
      "text/plain": [
       "                       INCDATE                 INCDTTM\n",
       "0       2013/03/27 00:00:00+00    3/27/2013 2:54:00 PM\n",
       "1       2006/12/20 00:00:00+00   12/20/2006 6:55:00 PM\n",
       "2       2004/11/18 00:00:00+00  11/18/2004 10:20:00 AM\n",
       "3       2013/03/29 00:00:00+00    3/29/2013 9:26:00 AM\n",
       "4       2004/01/28 00:00:00+00    1/28/2004 8:04:00 AM\n",
       "...                        ...                     ...\n",
       "194668  2018/11/12 00:00:00+00   11/12/2018 8:12:00 AM\n",
       "194669  2018/12/18 00:00:00+00   12/18/2018 9:14:00 AM\n",
       "194670  2019/01/19 00:00:00+00    1/19/2019 9:25:00 AM\n",
       "194671  2019/01/15 00:00:00+00    1/15/2019 4:48:00 PM\n",
       "194672  2018/11/30 00:00:00+00   11/30/2018 3:45:00 PM\n",
       "\n",
       "[194673 rows x 2 columns]"
      ]
     },
     "execution_count": 95,
     "metadata": {},
     "output_type": "execute_result"
    }
   ],
   "source": [
    "df[['INCDATE','INCDTTM']]"
   ]
  },
  {
   "cell_type": "markdown",
   "metadata": {},
   "source": [
    "'INCDATE' and 'INCDTTM' reports the time and date of the accident. We keep 'INCDTTM' since it is more complete and discrd 'INCDATE'."
   ]
  },
  {
   "cell_type": "code",
   "execution_count": 96,
   "metadata": {},
   "outputs": [],
   "source": [
    "df.drop(['INCDATE'], axis=1, inplace=True)"
   ]
  },
  {
   "cell_type": "code",
   "execution_count": 97,
   "metadata": {},
   "outputs": [
    {
     "data": {
      "text/plain": [
       "Mid-Block (not related to intersection)              89800\n",
       "At Intersection (intersection related)               62810\n",
       "Mid-Block (but intersection related)                 22790\n",
       "Driveway Junction                                    10671\n",
       "At Intersection (but not related to intersection)     2098\n",
       "Ramp Junction                                          166\n",
       "Unknown                                                  9\n",
       "Name: JUNCTIONTYPE, dtype: int64"
      ]
     },
     "execution_count": 97,
     "metadata": {},
     "output_type": "execute_result"
    }
   ],
   "source": [
    "df['JUNCTIONTYPE'].value_counts()"
   ]
  },
  {
   "cell_type": "markdown",
   "metadata": {},
   "source": [
    "We discard 'JUNCTIONTYPE' and 'SDOT_COLDESC' and keep 'SDOT_COLCODE' that describe the accident with a code."
   ]
  },
  {
   "cell_type": "code",
   "execution_count": 98,
   "metadata": {},
   "outputs": [
    {
     "data": {
      "text/plain": [
       "MOTOR VEHICLE STRUCK MOTOR VEHICLE, FRONT END AT ANGLE          85209\n",
       "MOTOR VEHICLE STRUCK MOTOR VEHICLE, REAR END                    54299\n",
       "MOTOR VEHICLE STRUCK MOTOR VEHICLE, LEFT SIDE SIDESWIPE          9928\n",
       "NOT ENOUGH INFORMATION / NOT APPLICABLE                          9787\n",
       "MOTOR VEHICLE RAN OFF ROAD - HIT FIXED OBJECT                    8856\n",
       "MOTOR VEHCILE STRUCK PEDESTRIAN                                  6518\n",
       "MOTOR VEHICLE STRUCK MOTOR VEHICLE, LEFT SIDE AT ANGLE           5852\n",
       "MOTOR VEHICLE STRUCK OBJECT IN ROAD                              4741\n",
       "MOTOR VEHICLE STRUCK PEDALCYCLIST, FRONT END AT ANGLE            3104\n",
       "MOTOR VEHICLE STRUCK MOTOR VEHICLE, RIGHT SIDE SIDESWIPE         1604\n",
       "MOTOR VEHICLE STRUCK MOTOR VEHICLE, RIGHT SIDE AT ANGLE          1440\n",
       "PEDALCYCLIST STRUCK MOTOR VEHICLE FRONT END AT ANGLE             1312\n",
       "MOTOR VEHICLE OVERTURNED IN ROAD                                  479\n",
       "MOTOR VEHICLE STRUCK PEDALCYCLIST, REAR END                       181\n",
       "PEDALCYCLIST STRUCK MOTOR VEHICLE LEFT SIDE SIDESWIPE             180\n",
       "MOTOR VEHICLE RAN OFF ROAD - NO COLLISION                         166\n",
       "PEDALCYCLIST STRUCK MOTOR VEHICLE REAR END                        139\n",
       "MOTOR VEHICLE STRUCK PEDALCYCLIST, LEFT SIDE SIDESWIPE            124\n",
       "DRIVERLESS VEHICLE RAN OFF ROAD - HIT FIXED OBJECT                107\n",
       "DRIVERLESS VEHICLE STRUCK MOTOR VEHICLE FRONT END AT ANGLE        104\n",
       "MOTOR VEHICLE STRUCK TRAIN                                        102\n",
       "DRIVERLESS VEHICLE STRUCK MOTOR VEHICLE REAR END                   93\n",
       "PEDALCYCLIST STRUCK PEDESTRIAN                                     75\n",
       "PEDALCYCLIST OVERTURNED IN ROAD                                    69\n",
       "DRIVERLESS VEHICLE STRUCK MOTOR VEHICLE LEFT SIDE AT ANGLE         53\n",
       "PEDALCYCLIST STRUCK MOTOR VEHICLE RIGHT SIDE SIDESWIPE             50\n",
       "PEDALCYCLIST STRUCK OBJECT IN ROAD                                 23\n",
       "MOTOR VEHICLE STRUCK PEDALCYCLIST, RIGHT SIDE SIDESWIPE            17\n",
       "DRIVERLESS VEHICLE STRUCK MOTOR VEHICLE RIGHT SIDE AT ANGLE        12\n",
       "PEDALCYCLIST STRUCK MOTOR VEHICLE LEFT SIDE AT ANGLE                9\n",
       "DRIVERLESS VEHICLE STRUCK PEDESTRIAN                                8\n",
       "PEDALCYCLIST STRUCK PEDALCYCLIST REAR END                           7\n",
       "DRIVERLESS VEHICLE STRUCK MOTOR VEHICLE RIGHT SIDE SIDESWIPE        6\n",
       "PEDALCYCLIST STRUCK PEDALCYCLIST FRONT END AT ANGLE                 5\n",
       "PEDALCYCLIST RAN OFF ROAD - HIT FIXED OBJECT                        4\n",
       "DRIVERLESS VEHICLE STRUCK MOTOR VEHICLE LEFT SIDE SIDESWIPE         4\n",
       "DRIVERLESS VEHICLE STRUCK OBJECT IN ROADWAY                         3\n",
       "PEDALCYCLIST STRUCK MOTOR VEHICLE RIGHT SIDE AT ANGLE               2\n",
       "DRIVERLESS VEHICLE RAN OFF ROAD - NO COLLISION                      1\n",
       "Name: SDOT_COLDESC, dtype: int64"
      ]
     },
     "execution_count": 98,
     "metadata": {},
     "output_type": "execute_result"
    }
   ],
   "source": [
    "df['SDOT_COLDESC'].value_counts()"
   ]
  },
  {
   "cell_type": "code",
   "execution_count": 99,
   "metadata": {},
   "outputs": [],
   "source": [
    "df.drop(['SDOT_COLDESC','JUNCTIONTYPE'], axis=1, inplace=True)"
   ]
  },
  {
   "cell_type": "code",
   "execution_count": 100,
   "metadata": {},
   "outputs": [
    {
     "name": "stdout",
     "output_type": "stream",
     "text": [
      "<class 'pandas.core.frame.DataFrame'>\n",
      "RangeIndex: 194673 entries, 0 to 194672\n",
      "Data columns (total 20 columns):\n",
      "SEVERITYCODE      194673 non-null int64\n",
      "PERSONCOUNT       194673 non-null int64\n",
      "PEDCOUNT          194673 non-null int64\n",
      "PEDCYLCOUNT       194673 non-null int64\n",
      "VEHCOUNT          194673 non-null int64\n",
      "INCDTTM           194673 non-null object\n",
      "SDOT_COLCODE      194673 non-null int64\n",
      "INATTENTIONIND    29805 non-null object\n",
      "UNDERINFL         189789 non-null object\n",
      "WEATHER           189592 non-null object\n",
      "ROADCOND          189661 non-null object\n",
      "LIGHTCOND         189503 non-null object\n",
      "PEDROWNOTGRNT     4667 non-null object\n",
      "SDOTCOLNUM        114936 non-null float64\n",
      "SPEEDING          9333 non-null object\n",
      "ST_COLCODE        194655 non-null object\n",
      "ST_COLDESC        189769 non-null object\n",
      "SEGLANEKEY        194673 non-null int64\n",
      "CROSSWALKKEY      194673 non-null int64\n",
      "HITPARKEDCAR      194673 non-null object\n",
      "dtypes: float64(1), int64(8), object(11)\n",
      "memory usage: 29.7+ MB\n"
     ]
    }
   ],
   "source": [
    "df.info()"
   ]
  },
  {
   "cell_type": "markdown",
   "metadata": {},
   "source": [
    "We keep 'INATTENTIONIND','UNDERINFL','WEATHER','ROADCOND','LIGHTCOND','PEDROWNOTGRNT' and 'SPEEDING'. We discard 'HITPARKEDCAR','SEGLANEKEY','CROSSWALKKEY','SDOTCOLNUM' and 'ST_COLCODE','ST_COLDESC' since they have similar information of 'SDOT_COLCODE'."
   ]
  },
  {
   "cell_type": "code",
   "execution_count": 101,
   "metadata": {},
   "outputs": [],
   "source": [
    "df.drop(['HITPARKEDCAR','SEGLANEKEY','CROSSWALKKEY','SDOTCOLNUM','ST_COLCODE','ST_COLDESC'], axis=1, inplace=True)"
   ]
  },
  {
   "cell_type": "code",
   "execution_count": 102,
   "metadata": {},
   "outputs": [
    {
     "name": "stdout",
     "output_type": "stream",
     "text": [
      "<class 'pandas.core.frame.DataFrame'>\n",
      "RangeIndex: 194673 entries, 0 to 194672\n",
      "Data columns (total 14 columns):\n",
      "SEVERITYCODE      194673 non-null int64\n",
      "PERSONCOUNT       194673 non-null int64\n",
      "PEDCOUNT          194673 non-null int64\n",
      "PEDCYLCOUNT       194673 non-null int64\n",
      "VEHCOUNT          194673 non-null int64\n",
      "INCDTTM           194673 non-null object\n",
      "SDOT_COLCODE      194673 non-null int64\n",
      "INATTENTIONIND    29805 non-null object\n",
      "UNDERINFL         189789 non-null object\n",
      "WEATHER           189592 non-null object\n",
      "ROADCOND          189661 non-null object\n",
      "LIGHTCOND         189503 non-null object\n",
      "PEDROWNOTGRNT     4667 non-null object\n",
      "SPEEDING          9333 non-null object\n",
      "dtypes: int64(6), object(8)\n",
      "memory usage: 20.8+ MB\n"
     ]
    }
   ],
   "source": [
    "df.info()"
   ]
  },
  {
   "cell_type": "markdown",
   "metadata": {},
   "source": [
    "We convert object-type columns in categorical variables. We fill the NaNs with zero, since if it is note annotated as INATTENTIONIN, it is probably not the cause of the accident. We do the same for 'UNDERINFL', 'PEDROWNOTGRNT' and 'SPEEDING'."
   ]
  },
  {
   "cell_type": "code",
   "execution_count": 103,
   "metadata": {},
   "outputs": [],
   "source": [
    "df['INATTENTIONIND']=df['INATTENTIONIND'].fillna(0)\n",
    "df['INATTENTIONIND'].replace('Y',1, inplace=True)"
   ]
  },
  {
   "cell_type": "code",
   "execution_count": 104,
   "metadata": {},
   "outputs": [
    {
     "data": {
      "text/plain": [
       "0    164868\n",
       "1     29805\n",
       "Name: INATTENTIONIND, dtype: int64"
      ]
     },
     "execution_count": 104,
     "metadata": {},
     "output_type": "execute_result"
    }
   ],
   "source": [
    "df['INATTENTIONIND'].value_counts()"
   ]
  },
  {
   "cell_type": "code",
   "execution_count": 105,
   "metadata": {},
   "outputs": [
    {
     "data": {
      "text/plain": [
       "array(['N', '0', nan, '1', 'Y'], dtype=object)"
      ]
     },
     "execution_count": 105,
     "metadata": {},
     "output_type": "execute_result"
    }
   ],
   "source": [
    "df['UNDERINFL'].unique()"
   ]
  },
  {
   "cell_type": "code",
   "execution_count": 106,
   "metadata": {},
   "outputs": [],
   "source": [
    "df['UNDERINFL'].replace('Y',1, inplace=True)\n",
    "df['UNDERINFL'].replace('N',0, inplace=True)\n",
    "df['UNDERINFL'].replace('1',1, inplace=True)\n",
    "df['UNDERINFL'].replace('0',0, inplace=True)\n",
    "df['UNDERINFL']=df['UNDERINFL'].fillna(0)\n",
    "df['UNDERINFL']=df['UNDERINFL'].astype(int)"
   ]
  },
  {
   "cell_type": "code",
   "execution_count": 107,
   "metadata": {},
   "outputs": [
    {
     "data": {
      "text/plain": [
       "0    185552\n",
       "1      9121\n",
       "Name: UNDERINFL, dtype: int64"
      ]
     },
     "execution_count": 107,
     "metadata": {},
     "output_type": "execute_result"
    }
   ],
   "source": [
    "df['UNDERINFL'].value_counts()"
   ]
  },
  {
   "cell_type": "code",
   "execution_count": 108,
   "metadata": {},
   "outputs": [
    {
     "data": {
      "text/plain": [
       "Y    4667\n",
       "Name: PEDROWNOTGRNT, dtype: int64"
      ]
     },
     "execution_count": 108,
     "metadata": {},
     "output_type": "execute_result"
    }
   ],
   "source": [
    "df['PEDROWNOTGRNT'].value_counts()"
   ]
  },
  {
   "cell_type": "code",
   "execution_count": 109,
   "metadata": {},
   "outputs": [],
   "source": [
    "df['PEDROWNOTGRNT'].replace('Y',1, inplace=True)\n",
    "df['PEDROWNOTGRNT']=df['PEDROWNOTGRNT'].fillna(0)\n",
    "df['PEDROWNOTGRNT']=df['PEDROWNOTGRNT'].astype(int)"
   ]
  },
  {
   "cell_type": "code",
   "execution_count": 110,
   "metadata": {},
   "outputs": [
    {
     "data": {
      "text/plain": [
       "0    190006\n",
       "1      4667\n",
       "Name: PEDROWNOTGRNT, dtype: int64"
      ]
     },
     "execution_count": 110,
     "metadata": {},
     "output_type": "execute_result"
    }
   ],
   "source": [
    "df['PEDROWNOTGRNT'].value_counts()"
   ]
  },
  {
   "cell_type": "code",
   "execution_count": 111,
   "metadata": {},
   "outputs": [
    {
     "data": {
      "text/plain": [
       "Y    9333\n",
       "Name: SPEEDING, dtype: int64"
      ]
     },
     "execution_count": 111,
     "metadata": {},
     "output_type": "execute_result"
    }
   ],
   "source": [
    "df['SPEEDING'].value_counts()"
   ]
  },
  {
   "cell_type": "code",
   "execution_count": 112,
   "metadata": {},
   "outputs": [],
   "source": [
    "df['SPEEDING'].replace('Y',1, inplace=True)\n",
    "df['SPEEDING']=df['SPEEDING'].fillna(0)"
   ]
  },
  {
   "cell_type": "code",
   "execution_count": 113,
   "metadata": {},
   "outputs": [
    {
     "data": {
      "text/plain": [
       "0    0.0\n",
       "1    0.0\n",
       "2    0.0\n",
       "3    0.0\n",
       "4    0.0\n",
       "Name: SPEEDING, dtype: float64"
      ]
     },
     "execution_count": 113,
     "metadata": {},
     "output_type": "execute_result"
    }
   ],
   "source": [
    "df['SPEEDING'].head()"
   ]
  },
  {
   "cell_type": "code",
   "execution_count": 114,
   "metadata": {},
   "outputs": [
    {
     "name": "stdout",
     "output_type": "stream",
     "text": [
      "<class 'pandas.core.frame.DataFrame'>\n",
      "RangeIndex: 194673 entries, 0 to 194672\n",
      "Data columns (total 14 columns):\n",
      "SEVERITYCODE      194673 non-null int64\n",
      "PERSONCOUNT       194673 non-null int64\n",
      "PEDCOUNT          194673 non-null int64\n",
      "PEDCYLCOUNT       194673 non-null int64\n",
      "VEHCOUNT          194673 non-null int64\n",
      "INCDTTM           194673 non-null object\n",
      "SDOT_COLCODE      194673 non-null int64\n",
      "INATTENTIONIND    194673 non-null int64\n",
      "UNDERINFL         194673 non-null int64\n",
      "WEATHER           189592 non-null object\n",
      "ROADCOND          189661 non-null object\n",
      "LIGHTCOND         189503 non-null object\n",
      "PEDROWNOTGRNT     194673 non-null int64\n",
      "SPEEDING          194673 non-null float64\n",
      "dtypes: float64(1), int64(9), object(4)\n",
      "memory usage: 20.8+ MB\n"
     ]
    }
   ],
   "source": [
    "df.info()"
   ]
  },
  {
   "cell_type": "markdown",
   "metadata": {},
   "source": [
    "We notice that 'ROADCOND', 'LIGHTCOND' and 'WEATHER' do not have all the data. Wi will fill the missing data with the most frequent."
   ]
  },
  {
   "cell_type": "code",
   "execution_count": 115,
   "metadata": {},
   "outputs": [
    {
     "data": {
      "text/plain": [
       "Dry               129522\n",
       "Wet                47474\n",
       "Unknown            15078\n",
       "Ice                 1209\n",
       "Snow/Slush          1004\n",
       "Other                132\n",
       "Standing Water       115\n",
       "Sand/Mud/Dirt         75\n",
       "Oil                   64\n",
       "Name: ROADCOND, dtype: int64"
      ]
     },
     "execution_count": 115,
     "metadata": {},
     "output_type": "execute_result"
    }
   ],
   "source": [
    "df['ROADCOND']=df['ROADCOND'].fillna(df['ROADCOND'].mode().iloc[0])\n",
    "df['ROADCOND'].value_counts()"
   ]
  },
  {
   "cell_type": "code",
   "execution_count": 116,
   "metadata": {},
   "outputs": [
    {
     "data": {
      "text/plain": [
       "Daylight                    121307\n",
       "Dark - Street Lights On      48507\n",
       "Unknown                      13473\n",
       "Dusk                          5902\n",
       "Dawn                          2502\n",
       "Dark - No Street Lights       1537\n",
       "Dark - Street Lights Off      1199\n",
       "Other                          235\n",
       "Dark - Unknown Lighting         11\n",
       "Name: LIGHTCOND, dtype: int64"
      ]
     },
     "execution_count": 116,
     "metadata": {},
     "output_type": "execute_result"
    }
   ],
   "source": [
    "df['LIGHTCOND']=df['LIGHTCOND'].fillna(df['LIGHTCOND'].mode().iloc[0])\n",
    "df['LIGHTCOND'].value_counts()"
   ]
  },
  {
   "cell_type": "code",
   "execution_count": 117,
   "metadata": {},
   "outputs": [
    {
     "data": {
      "text/plain": [
       "Clear                       116216\n",
       "Raining                      33145\n",
       "Overcast                     27714\n",
       "Unknown                      15091\n",
       "Snowing                        907\n",
       "Other                          832\n",
       "Fog/Smog/Smoke                 569\n",
       "Sleet/Hail/Freezing Rain       113\n",
       "Blowing Sand/Dirt               56\n",
       "Severe Crosswind                25\n",
       "Partly Cloudy                    5\n",
       "Name: WEATHER, dtype: int64"
      ]
     },
     "execution_count": 117,
     "metadata": {},
     "output_type": "execute_result"
    }
   ],
   "source": [
    "df['WEATHER']=df['WEATHER'].fillna(df['WEATHER'].mode().iloc[0])\n",
    "df['WEATHER'].value_counts()"
   ]
  },
  {
   "cell_type": "code",
   "execution_count": 118,
   "metadata": {},
   "outputs": [
    {
     "name": "stdout",
     "output_type": "stream",
     "text": [
      "<class 'pandas.core.frame.DataFrame'>\n",
      "RangeIndex: 194673 entries, 0 to 194672\n",
      "Data columns (total 14 columns):\n",
      "SEVERITYCODE      194673 non-null int64\n",
      "PERSONCOUNT       194673 non-null int64\n",
      "PEDCOUNT          194673 non-null int64\n",
      "PEDCYLCOUNT       194673 non-null int64\n",
      "VEHCOUNT          194673 non-null int64\n",
      "INCDTTM           194673 non-null object\n",
      "SDOT_COLCODE      194673 non-null int64\n",
      "INATTENTIONIND    194673 non-null int64\n",
      "UNDERINFL         194673 non-null int64\n",
      "WEATHER           194673 non-null object\n",
      "ROADCOND          194673 non-null object\n",
      "LIGHTCOND         194673 non-null object\n",
      "PEDROWNOTGRNT     194673 non-null int64\n",
      "SPEEDING          194673 non-null float64\n",
      "dtypes: float64(1), int64(9), object(4)\n",
      "memory usage: 20.8+ MB\n"
     ]
    }
   ],
   "source": [
    "df.info()"
   ]
  },
  {
   "cell_type": "markdown",
   "metadata": {},
   "source": [
    "I will deal with the non-categorical variables in the EDA section."
   ]
  },
  {
   "cell_type": "markdown",
   "metadata": {},
   "source": [
    "## 3) Metodology "
   ]
  },
  {
   "cell_type": "markdown",
   "metadata": {},
   "source": [
    "##### Task: Methodology section which represents the main component of the report where you discuss and describe any exploratory data analysis that you did, any inferential statistical testing that you performed, if any, and what machine learnings were used and why."
   ]
  },
  {
   "cell_type": "code",
   "execution_count": 119,
   "metadata": {},
   "outputs": [],
   "source": [
    "import datetime as dt"
   ]
  },
  {
   "cell_type": "markdown",
   "metadata": {},
   "source": [
    "Let's analyse the date-time feature."
   ]
  },
  {
   "cell_type": "code",
   "execution_count": 120,
   "metadata": {},
   "outputs": [
    {
     "name": "stdout",
     "output_type": "stream",
     "text": [
      "                 DATE  SEVERITYCODE\n",
      "0 2013-03-27 14:54:00             2\n",
      "1 2006-12-20 18:55:00             1\n",
      "2 2004-11-18 10:20:00             1\n",
      "3 2013-03-29 09:26:00             1\n",
      "4 2004-01-28 08:04:00             2\n",
      "0      3/27/2013 2:54:00 PM\n",
      "1     12/20/2006 6:55:00 PM\n",
      "2    11/18/2004 10:20:00 AM\n",
      "3      3/29/2013 9:26:00 AM\n",
      "4      1/28/2004 8:04:00 AM\n",
      "Name: INCDTTM, dtype: object\n"
     ]
    }
   ],
   "source": [
    "Feature=df[['INCDTTM','SEVERITYCODE']]\n",
    "Feature = Feature.rename(columns={'INCDTTM': 'DATE'})\n",
    "Feature['DATE']=pd.to_datetime(Feature['DATE'])\n",
    "print(Feature.head())\n",
    "print(df['INCDTTM'].head())"
   ]
  },
  {
   "cell_type": "code",
   "execution_count": 121,
   "metadata": {},
   "outputs": [
    {
     "name": "stdout",
     "output_type": "stream",
     "text": [
      "<class 'pandas.core.frame.DataFrame'>\n",
      "RangeIndex: 194673 entries, 0 to 194672\n",
      "Data columns (total 2 columns):\n",
      "DATE            194673 non-null datetime64[ns]\n",
      "SEVERITYCODE    194673 non-null int64\n",
      "dtypes: datetime64[ns](1), int64(1)\n",
      "memory usage: 3.0 MB\n"
     ]
    }
   ],
   "source": [
    "Feature.info()"
   ]
  },
  {
   "cell_type": "code",
   "execution_count": 122,
   "metadata": {},
   "outputs": [],
   "source": [
    "Feature['weekday'] = Feature['DATE'].dt.weekday"
   ]
  },
  {
   "cell_type": "code",
   "execution_count": 123,
   "metadata": {},
   "outputs": [
    {
     "data": {
      "text/html": [
       "<div>\n",
       "<style scoped>\n",
       "    .dataframe tbody tr th:only-of-type {\n",
       "        vertical-align: middle;\n",
       "    }\n",
       "\n",
       "    .dataframe tbody tr th {\n",
       "        vertical-align: top;\n",
       "    }\n",
       "\n",
       "    .dataframe thead th {\n",
       "        text-align: right;\n",
       "    }\n",
       "</style>\n",
       "<table border=\"1\" class=\"dataframe\">\n",
       "  <thead>\n",
       "    <tr style=\"text-align: right;\">\n",
       "      <th></th>\n",
       "      <th>DATE</th>\n",
       "      <th>SEVERITYCODE</th>\n",
       "      <th>weekday</th>\n",
       "    </tr>\n",
       "  </thead>\n",
       "  <tbody>\n",
       "    <tr>\n",
       "      <td>0</td>\n",
       "      <td>2013-03-27 14:54:00</td>\n",
       "      <td>2</td>\n",
       "      <td>2</td>\n",
       "    </tr>\n",
       "    <tr>\n",
       "      <td>1</td>\n",
       "      <td>2006-12-20 18:55:00</td>\n",
       "      <td>1</td>\n",
       "      <td>2</td>\n",
       "    </tr>\n",
       "    <tr>\n",
       "      <td>2</td>\n",
       "      <td>2004-11-18 10:20:00</td>\n",
       "      <td>1</td>\n",
       "      <td>3</td>\n",
       "    </tr>\n",
       "    <tr>\n",
       "      <td>3</td>\n",
       "      <td>2013-03-29 09:26:00</td>\n",
       "      <td>1</td>\n",
       "      <td>4</td>\n",
       "    </tr>\n",
       "    <tr>\n",
       "      <td>4</td>\n",
       "      <td>2004-01-28 08:04:00</td>\n",
       "      <td>2</td>\n",
       "      <td>2</td>\n",
       "    </tr>\n",
       "  </tbody>\n",
       "</table>\n",
       "</div>"
      ],
      "text/plain": [
       "                 DATE  SEVERITYCODE  weekday\n",
       "0 2013-03-27 14:54:00             2        2\n",
       "1 2006-12-20 18:55:00             1        2\n",
       "2 2004-11-18 10:20:00             1        3\n",
       "3 2013-03-29 09:26:00             1        4\n",
       "4 2004-01-28 08:04:00             2        2"
      ]
     },
     "execution_count": 123,
     "metadata": {},
     "output_type": "execute_result"
    }
   ],
   "source": [
    "Feature.head()"
   ]
  },
  {
   "cell_type": "code",
   "execution_count": 124,
   "metadata": {},
   "outputs": [
    {
     "data": {
      "text/plain": [
       "weekday  SEVERITYCODE\n",
       "0        1               18365\n",
       "         2                7973\n",
       "1        1               19825\n",
       "         2                8731\n",
       "2        1               20021\n",
       "         2                8757\n",
       "3        1               20306\n",
       "         2                9018\n",
       "4        1               22774\n",
       "         2                9559\n",
       "5        1               19342\n",
       "         2                8047\n",
       "6        1               15852\n",
       "         2                6103\n",
       "Name: SEVERITYCODE, dtype: int64"
      ]
     },
     "execution_count": 124,
     "metadata": {},
     "output_type": "execute_result"
    }
   ],
   "source": [
    "Feature.groupby(['weekday'])['SEVERITYCODE'].value_counts()"
   ]
  },
  {
   "cell_type": "code",
   "execution_count": 125,
   "metadata": {},
   "outputs": [
    {
     "data": {
      "image/png": "[encoded data removed]",
      "text/plain": [
       "<Figure size 444x360 with 1 Axes>"
      ]
     },
     "metadata": {
      "needs_background": "light"
     },
     "output_type": "display_data"
    }
   ],
   "source": [
    "sns.displot(Feature, x=\"weekday\", hue=\"SEVERITYCODE\", multiple=\"stack\")\n",
    "plt.show()"
   ]
  },
  {
   "cell_type": "code",
   "execution_count": 126,
   "metadata": {},
   "outputs": [
    {
     "data": {
      "text/plain": [
       "0         14\n",
       "1         18\n",
       "2         10\n",
       "3          9\n",
       "4          8\n",
       "          ..\n",
       "194668     8\n",
       "194669     9\n",
       "194670     9\n",
       "194671    16\n",
       "194672    15\n",
       "Name: day, Length: 194673, dtype: int64"
      ]
     },
     "execution_count": 126,
     "metadata": {},
     "output_type": "execute_result"
    }
   ],
   "source": [
    "Feature['day'] = Feature['DATE'].dt.hour\n",
    "Feature['day']"
   ]
  },
  {
   "cell_type": "markdown",
   "metadata": {},
   "source": [
    "I divide the day in Night = 0-6, Morning 6-12, Afternoon 12-18 and Evening 18-24. "
   ]
  },
  {
   "cell_type": "code",
   "execution_count": 127,
   "metadata": {},
   "outputs": [
    {
     "name": "stdout",
     "output_type": "stream",
     "text": [
      "0    2\n",
      "1    3\n",
      "2    1\n",
      "3    1\n",
      "4    1\n",
      "Name: day, dtype: int64\n",
      "2    67801\n",
      "0    45949\n",
      "1    42038\n",
      "3    38885\n",
      "Name: day, dtype: int64\n"
     ]
    }
   ],
   "source": [
    "Feature['day'] = Feature['day'].apply(lambda x: 0 if x< 6 else (1 if 6<=x<12 else (2 if 12<=x<18 else 3)))\n",
    "print(Feature['day'].head())\n",
    "print(Feature['day'].value_counts())"
   ]
  },
  {
   "cell_type": "code",
   "execution_count": 128,
   "metadata": {},
   "outputs": [
    {
     "data": {
      "text/html": [
       "<div>\n",
       "<style scoped>\n",
       "    .dataframe tbody tr th:only-of-type {\n",
       "        vertical-align: middle;\n",
       "    }\n",
       "\n",
       "    .dataframe tbody tr th {\n",
       "        vertical-align: top;\n",
       "    }\n",
       "\n",
       "    .dataframe thead th {\n",
       "        text-align: right;\n",
       "    }\n",
       "</style>\n",
       "<table border=\"1\" class=\"dataframe\">\n",
       "  <thead>\n",
       "    <tr style=\"text-align: right;\">\n",
       "      <th></th>\n",
       "      <th>DATE</th>\n",
       "      <th>SEVERITYCODE</th>\n",
       "      <th>weekday</th>\n",
       "      <th>day</th>\n",
       "    </tr>\n",
       "  </thead>\n",
       "  <tbody>\n",
       "    <tr>\n",
       "      <td>0</td>\n",
       "      <td>2013-03-27 14:54:00</td>\n",
       "      <td>2</td>\n",
       "      <td>2</td>\n",
       "      <td>2</td>\n",
       "    </tr>\n",
       "    <tr>\n",
       "      <td>1</td>\n",
       "      <td>2006-12-20 18:55:00</td>\n",
       "      <td>1</td>\n",
       "      <td>2</td>\n",
       "      <td>3</td>\n",
       "    </tr>\n",
       "    <tr>\n",
       "      <td>2</td>\n",
       "      <td>2004-11-18 10:20:00</td>\n",
       "      <td>1</td>\n",
       "      <td>3</td>\n",
       "      <td>1</td>\n",
       "    </tr>\n",
       "    <tr>\n",
       "      <td>3</td>\n",
       "      <td>2013-03-29 09:26:00</td>\n",
       "      <td>1</td>\n",
       "      <td>4</td>\n",
       "      <td>1</td>\n",
       "    </tr>\n",
       "    <tr>\n",
       "      <td>4</td>\n",
       "      <td>2004-01-28 08:04:00</td>\n",
       "      <td>2</td>\n",
       "      <td>2</td>\n",
       "      <td>1</td>\n",
       "    </tr>\n",
       "  </tbody>\n",
       "</table>\n",
       "</div>"
      ],
      "text/plain": [
       "                 DATE  SEVERITYCODE  weekday  day\n",
       "0 2013-03-27 14:54:00             2        2    2\n",
       "1 2006-12-20 18:55:00             1        2    3\n",
       "2 2004-11-18 10:20:00             1        3    1\n",
       "3 2013-03-29 09:26:00             1        4    1\n",
       "4 2004-01-28 08:04:00             2        2    1"
      ]
     },
     "execution_count": 128,
     "metadata": {},
     "output_type": "execute_result"
    }
   ],
   "source": [
    "Feature.head()"
   ]
  },
  {
   "cell_type": "code",
   "execution_count": 129,
   "metadata": {},
   "outputs": [
    {
     "data": {
      "image/png": "[encoded data removed]",
      "text/plain": [
       "<Figure size 444x360 with 1 Axes>"
      ]
     },
     "metadata": {
      "needs_background": "light"
     },
     "output_type": "display_data"
    }
   ],
   "source": [
    "sns.displot(Feature, x=\"day\", hue=\"SEVERITYCODE\", multiple=\"stack\")\n",
    "plt.show()"
   ]
  },
  {
   "cell_type": "code",
   "execution_count": 130,
   "metadata": {},
   "outputs": [
    {
     "data": {
      "image/png": "[encoded data removed]",
      "text/plain": [
       "<Figure size 444x360 with 1 Axes>"
      ]
     },
     "metadata": {
      "needs_background": "light"
     },
     "output_type": "display_data"
    }
   ],
   "source": [
    "sns.displot(Feature, x=Feature['DATE'].dt.month, hue=\"SEVERITYCODE\", multiple=\"stack\")\n",
    "plt.show()"
   ]
  },
  {
   "cell_type": "code",
   "execution_count": 131,
   "metadata": {},
   "outputs": [],
   "source": [
    "Feature['month'] = Feature['DATE'].dt.month"
   ]
  },
  {
   "cell_type": "markdown",
   "metadata": {},
   "source": [
    "We construct the dataframe \"Feature\" for the actual features I am gonna use. I also construct the dummy variables for the object type features."
   ]
  },
  {
   "cell_type": "code",
   "execution_count": 132,
   "metadata": {},
   "outputs": [
    {
     "name": "stdout",
     "output_type": "stream",
     "text": [
      "<class 'pandas.core.frame.DataFrame'>\n",
      "RangeIndex: 194673 entries, 0 to 194672\n",
      "Data columns (total 14 columns):\n",
      "SEVERITYCODE      194673 non-null int64\n",
      "PERSONCOUNT       194673 non-null int64\n",
      "PEDCOUNT          194673 non-null int64\n",
      "PEDCYLCOUNT       194673 non-null int64\n",
      "VEHCOUNT          194673 non-null int64\n",
      "INCDTTM           194673 non-null object\n",
      "SDOT_COLCODE      194673 non-null int64\n",
      "INATTENTIONIND    194673 non-null int64\n",
      "UNDERINFL         194673 non-null int64\n",
      "WEATHER           194673 non-null object\n",
      "ROADCOND          194673 non-null object\n",
      "LIGHTCOND         194673 non-null object\n",
      "PEDROWNOTGRNT     194673 non-null int64\n",
      "SPEEDING          194673 non-null float64\n",
      "dtypes: float64(1), int64(9), object(4)\n",
      "memory usage: 20.8+ MB\n"
     ]
    }
   ],
   "source": [
    "df.info()"
   ]
  },
  {
   "cell_type": "code",
   "execution_count": 133,
   "metadata": {},
   "outputs": [
    {
     "data": {
      "text/html": [
       "<div>\n",
       "<style scoped>\n",
       "    .dataframe tbody tr th:only-of-type {\n",
       "        vertical-align: middle;\n",
       "    }\n",
       "\n",
       "    .dataframe tbody tr th {\n",
       "        vertical-align: top;\n",
       "    }\n",
       "\n",
       "    .dataframe thead th {\n",
       "        text-align: right;\n",
       "    }\n",
       "</style>\n",
       "<table border=\"1\" class=\"dataframe\">\n",
       "  <thead>\n",
       "    <tr style=\"text-align: right;\">\n",
       "      <th></th>\n",
       "      <th>weekday</th>\n",
       "      <th>day</th>\n",
       "      <th>month</th>\n",
       "      <th>UNDERINFL</th>\n",
       "      <th>INATTENTIONIND</th>\n",
       "      <th>SPEEDING</th>\n",
       "      <th>PERSONCOUNT</th>\n",
       "      <th>PEDCOUNT</th>\n",
       "      <th>PEDCYLCOUNT</th>\n",
       "      <th>VEHCOUNT</th>\n",
       "      <th>...</th>\n",
       "      <th>Standing Water</th>\n",
       "      <th>Wet</th>\n",
       "      <th>Dark - No Street Lights</th>\n",
       "      <th>Dark - Street Lights Off</th>\n",
       "      <th>Dark - Street Lights On</th>\n",
       "      <th>Dark - Unknown Lighting</th>\n",
       "      <th>Dawn</th>\n",
       "      <th>Daylight</th>\n",
       "      <th>Dusk</th>\n",
       "      <th>Other</th>\n",
       "    </tr>\n",
       "  </thead>\n",
       "  <tbody>\n",
       "    <tr>\n",
       "      <td>0</td>\n",
       "      <td>2</td>\n",
       "      <td>2</td>\n",
       "      <td>3</td>\n",
       "      <td>0</td>\n",
       "      <td>0</td>\n",
       "      <td>0.0</td>\n",
       "      <td>2</td>\n",
       "      <td>0</td>\n",
       "      <td>0</td>\n",
       "      <td>2</td>\n",
       "      <td>...</td>\n",
       "      <td>0</td>\n",
       "      <td>1</td>\n",
       "      <td>0</td>\n",
       "      <td>0</td>\n",
       "      <td>0</td>\n",
       "      <td>0</td>\n",
       "      <td>0</td>\n",
       "      <td>1</td>\n",
       "      <td>0</td>\n",
       "      <td>0</td>\n",
       "    </tr>\n",
       "    <tr>\n",
       "      <td>1</td>\n",
       "      <td>2</td>\n",
       "      <td>3</td>\n",
       "      <td>12</td>\n",
       "      <td>0</td>\n",
       "      <td>0</td>\n",
       "      <td>0.0</td>\n",
       "      <td>2</td>\n",
       "      <td>0</td>\n",
       "      <td>0</td>\n",
       "      <td>2</td>\n",
       "      <td>...</td>\n",
       "      <td>0</td>\n",
       "      <td>1</td>\n",
       "      <td>0</td>\n",
       "      <td>0</td>\n",
       "      <td>1</td>\n",
       "      <td>0</td>\n",
       "      <td>0</td>\n",
       "      <td>0</td>\n",
       "      <td>0</td>\n",
       "      <td>0</td>\n",
       "    </tr>\n",
       "    <tr>\n",
       "      <td>2</td>\n",
       "      <td>3</td>\n",
       "      <td>1</td>\n",
       "      <td>11</td>\n",
       "      <td>0</td>\n",
       "      <td>0</td>\n",
       "      <td>0.0</td>\n",
       "      <td>4</td>\n",
       "      <td>0</td>\n",
       "      <td>0</td>\n",
       "      <td>3</td>\n",
       "      <td>...</td>\n",
       "      <td>0</td>\n",
       "      <td>0</td>\n",
       "      <td>0</td>\n",
       "      <td>0</td>\n",
       "      <td>0</td>\n",
       "      <td>0</td>\n",
       "      <td>0</td>\n",
       "      <td>1</td>\n",
       "      <td>0</td>\n",
       "      <td>0</td>\n",
       "    </tr>\n",
       "    <tr>\n",
       "      <td>3</td>\n",
       "      <td>4</td>\n",
       "      <td>1</td>\n",
       "      <td>3</td>\n",
       "      <td>0</td>\n",
       "      <td>0</td>\n",
       "      <td>0.0</td>\n",
       "      <td>3</td>\n",
       "      <td>0</td>\n",
       "      <td>0</td>\n",
       "      <td>3</td>\n",
       "      <td>...</td>\n",
       "      <td>0</td>\n",
       "      <td>0</td>\n",
       "      <td>0</td>\n",
       "      <td>0</td>\n",
       "      <td>0</td>\n",
       "      <td>0</td>\n",
       "      <td>0</td>\n",
       "      <td>1</td>\n",
       "      <td>0</td>\n",
       "      <td>0</td>\n",
       "    </tr>\n",
       "    <tr>\n",
       "      <td>4</td>\n",
       "      <td>2</td>\n",
       "      <td>1</td>\n",
       "      <td>1</td>\n",
       "      <td>0</td>\n",
       "      <td>0</td>\n",
       "      <td>0.0</td>\n",
       "      <td>2</td>\n",
       "      <td>0</td>\n",
       "      <td>0</td>\n",
       "      <td>2</td>\n",
       "      <td>...</td>\n",
       "      <td>0</td>\n",
       "      <td>1</td>\n",
       "      <td>0</td>\n",
       "      <td>0</td>\n",
       "      <td>0</td>\n",
       "      <td>0</td>\n",
       "      <td>0</td>\n",
       "      <td>1</td>\n",
       "      <td>0</td>\n",
       "      <td>0</td>\n",
       "    </tr>\n",
       "  </tbody>\n",
       "</table>\n",
       "<p>5 rows × 38 columns</p>\n",
       "</div>"
      ],
      "text/plain": [
       "   weekday  day  month  UNDERINFL  INATTENTIONIND  SPEEDING  PERSONCOUNT  \\\n",
       "0        2    2      3          0               0       0.0            2   \n",
       "1        2    3     12          0               0       0.0            2   \n",
       "2        3    1     11          0               0       0.0            4   \n",
       "3        4    1      3          0               0       0.0            3   \n",
       "4        2    1      1          0               0       0.0            2   \n",
       "\n",
       "   PEDCOUNT  PEDCYLCOUNT  VEHCOUNT  ...  Standing Water  Wet  \\\n",
       "0         0            0         2  ...               0    1   \n",
       "1         0            0         2  ...               0    1   \n",
       "2         0            0         3  ...               0    0   \n",
       "3         0            0         3  ...               0    0   \n",
       "4         0            0         2  ...               0    1   \n",
       "\n",
       "   Dark - No Street Lights  Dark - Street Lights Off  Dark - Street Lights On  \\\n",
       "0                        0                         0                        0   \n",
       "1                        0                         0                        1   \n",
       "2                        0                         0                        0   \n",
       "3                        0                         0                        0   \n",
       "4                        0                         0                        0   \n",
       "\n",
       "   Dark - Unknown Lighting  Dawn  Daylight  Dusk  Other  \n",
       "0                        0     0         1     0      0  \n",
       "1                        0     0         0     0      0  \n",
       "2                        0     0         1     0      0  \n",
       "3                        0     0         1     0      0  \n",
       "4                        0     0         1     0      0  \n",
       "\n",
       "[5 rows x 38 columns]"
      ]
     },
     "execution_count": 133,
     "metadata": {},
     "output_type": "execute_result"
    }
   ],
   "source": [
    "Feature.drop(['DATE','SEVERITYCODE'], axis = 1,inplace=True)\n",
    "Feature['UNDERINFL']=df['UNDERINFL']\n",
    "Feature['INATTENTIONIND']=df['INATTENTIONIND']\n",
    "Feature['SPEEDING']=df['SPEEDING']\n",
    "Feature['PERSONCOUNT']=df['PERSONCOUNT']\n",
    "Feature['PEDCOUNT']=df['PEDCOUNT']\n",
    "Feature['PEDCYLCOUNT']=df['PEDCYLCOUNT']\n",
    "Feature['VEHCOUNT']=df['VEHCOUNT']\n",
    "Feature['SDOT_COLCODE']=df['SDOT_COLCODE']\n",
    "Feature['PEDROWNOTGRNT']=df['PEDROWNOTGRNT']\n",
    "Feature['SPEEDING']=df['SPEEDING']\n",
    "Feature = pd.concat([Feature,pd.get_dummies(df['WEATHER'])], axis=1)\n",
    "Feature.drop(['Unknown'], axis = 1,inplace=True)\n",
    "Feature = pd.concat([Feature,pd.get_dummies(df['ROADCOND'])], axis=1)\n",
    "Feature.drop(['Unknown'], axis = 1,inplace=True)\n",
    "Feature = pd.concat([Feature,pd.get_dummies(df['LIGHTCOND'])], axis=1)\n",
    "Feature.drop(['Unknown'], axis = 1,inplace=True)\n",
    "Feature.head()"
   ]
  },
  {
   "cell_type": "code",
   "execution_count": 134,
   "metadata": {},
   "outputs": [
    {
     "data": {
      "text/html": [
       "<div>\n",
       "<style scoped>\n",
       "    .dataframe tbody tr th:only-of-type {\n",
       "        vertical-align: middle;\n",
       "    }\n",
       "\n",
       "    .dataframe tbody tr th {\n",
       "        vertical-align: top;\n",
       "    }\n",
       "\n",
       "    .dataframe thead th {\n",
       "        text-align: right;\n",
       "    }\n",
       "</style>\n",
       "<table border=\"1\" class=\"dataframe\">\n",
       "  <thead>\n",
       "    <tr style=\"text-align: right;\">\n",
       "      <th></th>\n",
       "      <th>weekday</th>\n",
       "      <th>day</th>\n",
       "      <th>month</th>\n",
       "      <th>UNDERINFL</th>\n",
       "      <th>INATTENTIONIND</th>\n",
       "      <th>SPEEDING</th>\n",
       "      <th>PERSONCOUNT</th>\n",
       "      <th>PEDCOUNT</th>\n",
       "      <th>PEDCYLCOUNT</th>\n",
       "      <th>VEHCOUNT</th>\n",
       "      <th>...</th>\n",
       "      <th>Standing Water</th>\n",
       "      <th>Wet</th>\n",
       "      <th>Dark - No Street Lights</th>\n",
       "      <th>Dark - Street Lights Off</th>\n",
       "      <th>Dark - Street Lights On</th>\n",
       "      <th>Dark - Unknown Lighting</th>\n",
       "      <th>Dawn</th>\n",
       "      <th>Daylight</th>\n",
       "      <th>Dusk</th>\n",
       "      <th>Other</th>\n",
       "    </tr>\n",
       "  </thead>\n",
       "  <tbody>\n",
       "    <tr>\n",
       "      <td>0</td>\n",
       "      <td>2</td>\n",
       "      <td>2</td>\n",
       "      <td>3</td>\n",
       "      <td>0</td>\n",
       "      <td>0</td>\n",
       "      <td>0.0</td>\n",
       "      <td>2</td>\n",
       "      <td>0</td>\n",
       "      <td>0</td>\n",
       "      <td>2</td>\n",
       "      <td>...</td>\n",
       "      <td>0</td>\n",
       "      <td>1</td>\n",
       "      <td>0</td>\n",
       "      <td>0</td>\n",
       "      <td>0</td>\n",
       "      <td>0</td>\n",
       "      <td>0</td>\n",
       "      <td>1</td>\n",
       "      <td>0</td>\n",
       "      <td>0</td>\n",
       "    </tr>\n",
       "    <tr>\n",
       "      <td>1</td>\n",
       "      <td>2</td>\n",
       "      <td>3</td>\n",
       "      <td>12</td>\n",
       "      <td>0</td>\n",
       "      <td>0</td>\n",
       "      <td>0.0</td>\n",
       "      <td>2</td>\n",
       "      <td>0</td>\n",
       "      <td>0</td>\n",
       "      <td>2</td>\n",
       "      <td>...</td>\n",
       "      <td>0</td>\n",
       "      <td>1</td>\n",
       "      <td>0</td>\n",
       "      <td>0</td>\n",
       "      <td>1</td>\n",
       "      <td>0</td>\n",
       "      <td>0</td>\n",
       "      <td>0</td>\n",
       "      <td>0</td>\n",
       "      <td>0</td>\n",
       "    </tr>\n",
       "    <tr>\n",
       "      <td>2</td>\n",
       "      <td>3</td>\n",
       "      <td>1</td>\n",
       "      <td>11</td>\n",
       "      <td>0</td>\n",
       "      <td>0</td>\n",
       "      <td>0.0</td>\n",
       "      <td>4</td>\n",
       "      <td>0</td>\n",
       "      <td>0</td>\n",
       "      <td>3</td>\n",
       "      <td>...</td>\n",
       "      <td>0</td>\n",
       "      <td>0</td>\n",
       "      <td>0</td>\n",
       "      <td>0</td>\n",
       "      <td>0</td>\n",
       "      <td>0</td>\n",
       "      <td>0</td>\n",
       "      <td>1</td>\n",
       "      <td>0</td>\n",
       "      <td>0</td>\n",
       "    </tr>\n",
       "    <tr>\n",
       "      <td>3</td>\n",
       "      <td>4</td>\n",
       "      <td>1</td>\n",
       "      <td>3</td>\n",
       "      <td>0</td>\n",
       "      <td>0</td>\n",
       "      <td>0.0</td>\n",
       "      <td>3</td>\n",
       "      <td>0</td>\n",
       "      <td>0</td>\n",
       "      <td>3</td>\n",
       "      <td>...</td>\n",
       "      <td>0</td>\n",
       "      <td>0</td>\n",
       "      <td>0</td>\n",
       "      <td>0</td>\n",
       "      <td>0</td>\n",
       "      <td>0</td>\n",
       "      <td>0</td>\n",
       "      <td>1</td>\n",
       "      <td>0</td>\n",
       "      <td>0</td>\n",
       "    </tr>\n",
       "    <tr>\n",
       "      <td>4</td>\n",
       "      <td>2</td>\n",
       "      <td>1</td>\n",
       "      <td>1</td>\n",
       "      <td>0</td>\n",
       "      <td>0</td>\n",
       "      <td>0.0</td>\n",
       "      <td>2</td>\n",
       "      <td>0</td>\n",
       "      <td>0</td>\n",
       "      <td>2</td>\n",
       "      <td>...</td>\n",
       "      <td>0</td>\n",
       "      <td>1</td>\n",
       "      <td>0</td>\n",
       "      <td>0</td>\n",
       "      <td>0</td>\n",
       "      <td>0</td>\n",
       "      <td>0</td>\n",
       "      <td>1</td>\n",
       "      <td>0</td>\n",
       "      <td>0</td>\n",
       "    </tr>\n",
       "  </tbody>\n",
       "</table>\n",
       "<p>5 rows × 38 columns</p>\n",
       "</div>"
      ],
      "text/plain": [
       "   weekday  day  month  UNDERINFL  INATTENTIONIND  SPEEDING  PERSONCOUNT  \\\n",
       "0        2    2      3          0               0       0.0            2   \n",
       "1        2    3     12          0               0       0.0            2   \n",
       "2        3    1     11          0               0       0.0            4   \n",
       "3        4    1      3          0               0       0.0            3   \n",
       "4        2    1      1          0               0       0.0            2   \n",
       "\n",
       "   PEDCOUNT  PEDCYLCOUNT  VEHCOUNT  ...  Standing Water  Wet  \\\n",
       "0         0            0         2  ...               0    1   \n",
       "1         0            0         2  ...               0    1   \n",
       "2         0            0         3  ...               0    0   \n",
       "3         0            0         3  ...               0    0   \n",
       "4         0            0         2  ...               0    1   \n",
       "\n",
       "   Dark - No Street Lights  Dark - Street Lights Off  Dark - Street Lights On  \\\n",
       "0                        0                         0                        0   \n",
       "1                        0                         0                        1   \n",
       "2                        0                         0                        0   \n",
       "3                        0                         0                        0   \n",
       "4                        0                         0                        0   \n",
       "\n",
       "   Dark - Unknown Lighting  Dawn  Daylight  Dusk  Other  \n",
       "0                        0     0         1     0      0  \n",
       "1                        0     0         0     0      0  \n",
       "2                        0     0         1     0      0  \n",
       "3                        0     0         1     0      0  \n",
       "4                        0     0         1     0      0  \n",
       "\n",
       "[5 rows x 38 columns]"
      ]
     },
     "execution_count": 134,
     "metadata": {},
     "output_type": "execute_result"
    }
   ],
   "source": [
    "X = Feature\n",
    "X[0:5]"
   ]
  },
  {
   "cell_type": "code",
   "execution_count": 135,
   "metadata": {},
   "outputs": [
    {
     "data": {
      "text/plain": [
       "array([2, 1, 1, 1, 2])"
      ]
     },
     "execution_count": 135,
     "metadata": {},
     "output_type": "execute_result"
    }
   ],
   "source": [
    "y = df['SEVERITYCODE'].values\n",
    "y[0:5]"
   ]
  },
  {
   "cell_type": "code",
   "execution_count": 136,
   "metadata": {},
   "outputs": [
    {
     "data": {
      "text/plain": [
       "array([[-0.49,  0.46, -1.03, -0.22, -0.43, -0.22, -0.33, -0.19, -0.17,\n",
       "         0.13, -0.42, -0.16, -0.02, -1.22, -0.05, -0.07,  2.45, -0.01,\n",
       "        -0.45, -0.01, -0.02, -0.07, -1.41, -0.08, -0.02, -0.03, -0.02,\n",
       "        -0.07, -0.02,  1.76, -0.09, -0.08, -0.58, -0.01, -0.11,  0.78,\n",
       "        -0.18, -0.03],\n",
       "       [-0.49,  1.41,  1.59, -0.22, -0.43, -0.22, -0.33, -0.19, -0.17,\n",
       "         0.13,  0.31, -0.16, -0.02, -1.22, -0.05, -0.07, -0.41, -0.01,\n",
       "         2.21, -0.01, -0.02, -0.07, -1.41, -0.08, -0.02, -0.03, -0.02,\n",
       "        -0.07, -0.02,  1.76, -0.09, -0.08,  1.74, -0.01, -0.11, -1.29,\n",
       "        -0.18, -0.03],\n",
       "       [ 0.03, -0.48,  1.3 , -0.22, -0.43, -0.22,  1.16, -0.19, -0.17,\n",
       "         1.71,  0.02, -0.16, -0.02, -1.22, -0.05, -0.07,  2.45, -0.01,\n",
       "        -0.45, -0.01, -0.02, -0.07,  0.71, -0.08, -0.02, -0.03, -0.02,\n",
       "        -0.07, -0.02, -0.57, -0.09, -0.08, -0.58, -0.01, -0.11,  0.78,\n",
       "        -0.18, -0.03],\n",
       "       [ 0.55, -0.48, -1.03, -0.22, -0.43, -0.22,  0.41, -0.19, -0.17,\n",
       "         1.71, -0.42, -0.16, -0.02,  0.82, -0.05, -0.07, -0.41, -0.01,\n",
       "        -0.45, -0.01, -0.02, -0.07,  0.71, -0.08, -0.02, -0.03, -0.02,\n",
       "        -0.07, -0.02, -0.57, -0.09, -0.08, -0.58, -0.01, -0.11,  0.78,\n",
       "        -0.18, -0.03],\n",
       "       [-0.49, -0.48, -1.62, -0.22, -0.43, -0.22, -0.33, -0.19, -0.17,\n",
       "         0.13, -0.42, -0.16, -0.02, -1.22, -0.05, -0.07, -0.41, -0.01,\n",
       "         2.21, -0.01, -0.02, -0.07, -1.41, -0.08, -0.02, -0.03, -0.02,\n",
       "        -0.07, -0.02,  1.76, -0.09, -0.08, -0.58, -0.01, -0.11,  0.78,\n",
       "        -0.18, -0.03]])"
      ]
     },
     "execution_count": 136,
     "metadata": {},
     "output_type": "execute_result"
    }
   ],
   "source": [
    "X= preprocessing.StandardScaler().fit(X).transform((X.astype(float)))\n",
    "X[0:5]"
   ]
  },
  {
   "cell_type": "markdown",
   "metadata": {},
   "source": [
    "I decided to use the logistic regression model, since our target value is binary and it is much faster than the other classification models."
   ]
  },
  {
   "cell_type": "code",
   "execution_count": 137,
   "metadata": {},
   "outputs": [
    {
     "name": "stdout",
     "output_type": "stream",
     "text": [
      "Train set: (136271, 38) (136271,)\n",
      "Test set: (58402, 38) (58402,)\n"
     ]
    }
   ],
   "source": [
    "X_train, X_test, y_train, y_test = train_test_split( X, y, test_size=0.3, random_state=4)\n",
    "print ('Train set:', X_train.shape,  y_train.shape)\n",
    "print ('Test set:', X_test.shape,  y_test.shape)"
   ]
  },
  {
   "cell_type": "code",
   "execution_count": 138,
   "metadata": {},
   "outputs": [
    {
     "name": "stdout",
     "output_type": "stream",
     "text": [
      "              precision    recall  f1-score   support\n",
      "\n",
      "           1       0.75      0.98      0.85     41083\n",
      "           2       0.80      0.22      0.35     17319\n",
      "\n",
      "    accuracy                           0.75     58402\n",
      "   macro avg       0.78      0.60      0.60     58402\n",
      "weighted avg       0.76      0.75      0.70     58402\n",
      "\n",
      "Mean Accuracy score: 0.75\n",
      "F1-score: 0.70\n",
      "Jaccard Similarity Score: 0.75\n",
      "Log_Loss score: 0.53\n"
     ]
    },
    {
     "name": "stderr",
     "output_type": "stream",
     "text": [
      "/opt/anaconda3/lib/python3.7/site-packages/sklearn/metrics/classification.py:635: DeprecationWarning: jaccard_similarity_score has been deprecated and replaced with jaccard_score. It will be removed in version 0.23. This implementation has surprising behavior for binary and multiclass classification tasks.\n",
      "  'and multiclass classification tasks.', DeprecationWarning)\n"
     ]
    }
   ],
   "source": [
    "LR = LogisticRegression(C=0.001, solver='liblinear').fit(X_train,y_train)\n",
    "yhat = LR.predict(X_test)\n",
    "cnf_matrix = confusion_matrix(y_test, yhat)\n",
    "np.set_printoptions(precision=2)\n",
    "mean_acc = metrics.accuracy_score(y_test, yhat)\n",
    "\n",
    "print(classification_report(y_test, yhat))\n",
    "print(\"Mean Accuracy score: %.2f\" %mean_acc)\n",
    "print(\"F1-score: %.2f\" %f1_score(y_test, yhat, average='weighted'))\n",
    "print(\"Jaccard Similarity Score: %.2f\" % jaccard_similarity_score(y_test, yhat))\n",
    "yhat_prob = LR.predict_proba(X_test)\n",
    "print(\"Log_Loss score: %.2f\" %log_loss(y_test, yhat_prob))"
   ]
  },
  {
   "cell_type": "markdown",
   "metadata": {},
   "source": [
    "## 4) Results"
   ]
  },
  {
   "cell_type": "markdown",
   "metadata": {},
   "source": [
    "##### Task: Results section where you discuss the results."
   ]
  },
  {
   "cell_type": "markdown",
   "metadata": {},
   "source": [
    "The model gives a good prediction given the features. I varied the c parameter in order to get the best result. For small datasets, ‘liblinear’ is a good choice for the solver, so I kept it that way. I tried to solve this problem also with KNN, but the computational time was terribly slow."
   ]
  },
  {
   "cell_type": "markdown",
   "metadata": {},
   "source": [
    "## 5) Discussion and conclusions"
   ]
  },
  {
   "cell_type": "markdown",
   "metadata": {},
   "source": [
    "##### Task: Discussion section where you discuss any observations you noted and any recommendations you can make based on the results & Conclusion section where you conclude the report.."
   ]
  },
  {
   "cell_type": "markdown",
   "metadata": {},
   "source": [
    "In this study I analysed the relationship between the severity of an accident and some features of the accident such as for example, light condition, weather, number of car involved, some causes of the accident like speeding.\n",
    "\n",
    "I reached a good result with an accuracy of 0.75. this model could be very useful to alert hospitals that that day, in those particular conditions, it is expected a larger number of severe accidents and thay can prepare in advance toold and personals required."
   ]
  },
  {
   "cell_type": "code",
   "execution_count": null,
   "metadata": {},
   "outputs": [],
   "source": []
  }
 ],
 "metadata": {
  "kernelspec": {
   "display_name": "Python 3",
   "language": "python",
   "name": "python3"
  },
  "language_info": {
   "codemirror_mode": {
    "name": "ipython",
    "version": 3
   },
   "file_extension": ".py",
   "mimetype": "text/x-python",
   "name": "python",
   "nbconvert_exporter": "python",
   "pygments_lexer": "ipython3",
   "version": "3.7.4"
  }
 },
 "nbformat": 4,
 "nbformat_minor": 2
}
